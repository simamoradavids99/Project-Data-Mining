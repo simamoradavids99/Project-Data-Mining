{
 "cells": [
  {
   "cell_type": "code",
   "execution_count": 1,
   "metadata": {},
   "outputs": [],
   "source": [
    "from sklearn import datasets\n",
    "import pandas as pd\n",
    "import seaborn as sns\n",
    "import matplotlib.pyplot as plt\n",
    "import numpy as np"
   ]
  },
  {
   "cell_type": "code",
   "execution_count": 2,
   "metadata": {},
   "outputs": [],
   "source": [
    "df = pd.read_csv('original_data.csv')"
   ]
  },
  {
   "cell_type": "code",
   "execution_count": 3,
   "metadata": {},
   "outputs": [
    {
     "data": {
      "text/plain": [
       "(53644, 26)"
      ]
     },
     "execution_count": 3,
     "metadata": {},
     "output_type": "execute_result"
    }
   ],
   "source": [
    "df.shape"
   ]
  },
  {
   "cell_type": "code",
   "execution_count": 4,
   "metadata": {
    "scrolled": true
   },
   "outputs": [
    {
     "data": {
      "text/html": [
       "<div>\n",
       "<style scoped>\n",
       "    .dataframe tbody tr th:only-of-type {\n",
       "        vertical-align: middle;\n",
       "    }\n",
       "\n",
       "    .dataframe tbody tr th {\n",
       "        vertical-align: top;\n",
       "    }\n",
       "\n",
       "    .dataframe thead th {\n",
       "        text-align: right;\n",
       "    }\n",
       "</style>\n",
       "<table border=\"1\" class=\"dataframe\">\n",
       "  <thead>\n",
       "    <tr style=\"text-align: right;\">\n",
       "      <th></th>\n",
       "      <th>userName</th>\n",
       "      <th>major</th>\n",
       "      <th>researchExp</th>\n",
       "      <th>industryExp</th>\n",
       "      <th>specialization</th>\n",
       "      <th>toeflScore</th>\n",
       "      <th>program</th>\n",
       "      <th>department</th>\n",
       "      <th>toeflEssay</th>\n",
       "      <th>internExp</th>\n",
       "      <th>...</th>\n",
       "      <th>termAndYear</th>\n",
       "      <th>confPubs</th>\n",
       "      <th>ugCollege</th>\n",
       "      <th>gmatA</th>\n",
       "      <th>cgpa</th>\n",
       "      <th>gmatQ</th>\n",
       "      <th>cgpaScale</th>\n",
       "      <th>gmatV</th>\n",
       "      <th>univName</th>\n",
       "      <th>admit</th>\n",
       "    </tr>\n",
       "  </thead>\n",
       "  <tbody>\n",
       "    <tr>\n",
       "      <th>0</th>\n",
       "      <td>143saf</td>\n",
       "      <td>Systems and Control</td>\n",
       "      <td>0</td>\n",
       "      <td>18</td>\n",
       "      <td>Robotics</td>\n",
       "      <td>112.0</td>\n",
       "      <td>MS</td>\n",
       "      <td>Instrumentation &amp; Control</td>\n",
       "      <td>26</td>\n",
       "      <td>5.0</td>\n",
       "      <td>...</td>\n",
       "      <td>Fall - 2015</td>\n",
       "      <td>0</td>\n",
       "      <td>Dharamsinh Desai University</td>\n",
       "      <td>NaN</td>\n",
       "      <td>8.50</td>\n",
       "      <td>NaN</td>\n",
       "      <td>10</td>\n",
       "      <td>NaN</td>\n",
       "      <td>Worcester Polytechnic Institute</td>\n",
       "      <td>1</td>\n",
       "    </tr>\n",
       "    <tr>\n",
       "      <th>1</th>\n",
       "      <td>7790ashish</td>\n",
       "      <td>Manufacturing Engineering</td>\n",
       "      <td>0</td>\n",
       "      <td>0</td>\n",
       "      <td>NaN</td>\n",
       "      <td>NaN</td>\n",
       "      <td>MS</td>\n",
       "      <td>0</td>\n",
       "      <td>NaN</td>\n",
       "      <td>0.0</td>\n",
       "      <td>...</td>\n",
       "      <td>Fall - 2013</td>\n",
       "      <td>0</td>\n",
       "      <td>NaN</td>\n",
       "      <td>NaN</td>\n",
       "      <td>0.00</td>\n",
       "      <td>NaN</td>\n",
       "      <td>0</td>\n",
       "      <td>NaN</td>\n",
       "      <td>Worcester Polytechnic Institute</td>\n",
       "      <td>1</td>\n",
       "    </tr>\n",
       "    <tr>\n",
       "      <th>2</th>\n",
       "      <td>AB25</td>\n",
       "      <td>(MIS / MSIM / MSIS / MSIT)</td>\n",
       "      <td>0</td>\n",
       "      <td>66</td>\n",
       "      <td>NaN</td>\n",
       "      <td>94.0</td>\n",
       "      <td>MS</td>\n",
       "      <td>Computer Engineering</td>\n",
       "      <td>21</td>\n",
       "      <td>0.0</td>\n",
       "      <td>...</td>\n",
       "      <td>Fall - 2015</td>\n",
       "      <td>0</td>\n",
       "      <td>IET DAVV</td>\n",
       "      <td>NaN</td>\n",
       "      <td>78.28</td>\n",
       "      <td>NaN</td>\n",
       "      <td>100</td>\n",
       "      <td>NaN</td>\n",
       "      <td>Worcester Polytechnic Institute</td>\n",
       "      <td>1</td>\n",
       "    </tr>\n",
       "    <tr>\n",
       "      <th>3</th>\n",
       "      <td>abhijitg</td>\n",
       "      <td>NaN</td>\n",
       "      <td>0</td>\n",
       "      <td>0</td>\n",
       "      <td>NaN</td>\n",
       "      <td>NaN</td>\n",
       "      <td>NaN</td>\n",
       "      <td>0</td>\n",
       "      <td>NaN</td>\n",
       "      <td>0.0</td>\n",
       "      <td>...</td>\n",
       "      <td>NaN</td>\n",
       "      <td>NaN</td>\n",
       "      <td>NaN</td>\n",
       "      <td>NaN</td>\n",
       "      <td>0.00</td>\n",
       "      <td>NaN</td>\n",
       "      <td>0</td>\n",
       "      <td>NaN</td>\n",
       "      <td>Worcester Polytechnic Institute</td>\n",
       "      <td>1</td>\n",
       "    </tr>\n",
       "    <tr>\n",
       "      <th>4</th>\n",
       "      <td>abhijitgang</td>\n",
       "      <td>MIS</td>\n",
       "      <td>0</td>\n",
       "      <td>0</td>\n",
       "      <td>NaN</td>\n",
       "      <td>81.0</td>\n",
       "      <td>MS</td>\n",
       "      <td>computer</td>\n",
       "      <td>NaN</td>\n",
       "      <td>0.0</td>\n",
       "      <td>...</td>\n",
       "      <td>Fall - 2011</td>\n",
       "      <td>0</td>\n",
       "      <td>Pune University</td>\n",
       "      <td>NaN</td>\n",
       "      <td>57.00</td>\n",
       "      <td>NaN</td>\n",
       "      <td>100</td>\n",
       "      <td>NaN</td>\n",
       "      <td>Worcester Polytechnic Institute</td>\n",
       "      <td>1</td>\n",
       "    </tr>\n",
       "  </tbody>\n",
       "</table>\n",
       "<p>5 rows × 26 columns</p>\n",
       "</div>"
      ],
      "text/plain": [
       "      userName                       major  researchExp  industryExp  \\\n",
       "0       143saf         Systems and Control            0           18   \n",
       "1   7790ashish   Manufacturing Engineering            0            0   \n",
       "2         AB25  (MIS / MSIM / MSIS / MSIT)            0           66   \n",
       "3     abhijitg                         NaN            0            0   \n",
       "4  abhijitgang                         MIS            0            0   \n",
       "\n",
       "  specialization  toeflScore program                 department toeflEssay  \\\n",
       "0       Robotics       112.0      MS  Instrumentation & Control         26   \n",
       "1            NaN         NaN      MS                          0        NaN   \n",
       "2            NaN        94.0      MS       Computer Engineering         21   \n",
       "3            NaN         NaN     NaN                          0        NaN   \n",
       "4            NaN        81.0      MS                   computer        NaN   \n",
       "\n",
       "   internExp  ...  termAndYear  confPubs                    ugCollege gmatA  \\\n",
       "0        5.0  ...  Fall - 2015         0  Dharamsinh Desai University   NaN   \n",
       "1        0.0  ...  Fall - 2013         0                          NaN   NaN   \n",
       "2        0.0  ...  Fall - 2015         0                     IET DAVV   NaN   \n",
       "3        0.0  ...          NaN       NaN                          NaN   NaN   \n",
       "4        0.0  ...  Fall - 2011         0              Pune University   NaN   \n",
       "\n",
       "    cgpa  gmatQ cgpaScale gmatV                         univName  admit  \n",
       "0   8.50    NaN        10   NaN  Worcester Polytechnic Institute      1  \n",
       "1   0.00    NaN         0   NaN  Worcester Polytechnic Institute      1  \n",
       "2  78.28    NaN       100   NaN  Worcester Polytechnic Institute      1  \n",
       "3   0.00    NaN         0   NaN  Worcester Polytechnic Institute      1  \n",
       "4  57.00    NaN       100   NaN  Worcester Polytechnic Institute      1  \n",
       "\n",
       "[5 rows x 26 columns]"
      ]
     },
     "execution_count": 4,
     "metadata": {},
     "output_type": "execute_result"
    }
   ],
   "source": [
    "df.head()"
   ]
  },
  {
   "cell_type": "code",
   "execution_count": 5,
   "metadata": {},
   "outputs": [
    {
     "data": {
      "text/plain": [
       "Index(['userName', 'major', 'researchExp', 'industryExp', 'specialization',\n",
       "       'toeflScore', 'program', 'department', 'toeflEssay', 'internExp',\n",
       "       'greV', 'greQ', 'userProfileLink', 'journalPubs', 'greA', 'topperCgpa',\n",
       "       'termAndYear', 'confPubs', 'ugCollege', 'gmatA', 'cgpa', 'gmatQ',\n",
       "       'cgpaScale', 'gmatV', 'univName', 'admit'],\n",
       "      dtype='object')"
      ]
     },
     "execution_count": 5,
     "metadata": {},
     "output_type": "execute_result"
    }
   ],
   "source": [
    "df.columns"
   ]
  },
  {
   "cell_type": "code",
   "execution_count": 6,
   "metadata": {},
   "outputs": [
    {
     "name": "stdout",
     "output_type": "stream",
     "text": [
      "<class 'pandas.core.frame.DataFrame'>\n",
      "RangeIndex: 53644 entries, 0 to 53643\n",
      "Data columns (total 26 columns):\n",
      "userName           53644 non-null object\n",
      "major              53257 non-null object\n",
      "researchExp        53644 non-null int64\n",
      "industryExp        53644 non-null int64\n",
      "specialization     31949 non-null object\n",
      "toeflScore         49230 non-null float64\n",
      "program            53322 non-null object\n",
      "department         53643 non-null object\n",
      "toeflEssay         11874 non-null object\n",
      "internExp          53630 non-null float64\n",
      "greV               52388 non-null float64\n",
      "greQ               52424 non-null float64\n",
      "userProfileLink    53644 non-null object\n",
      "journalPubs        53322 non-null object\n",
      "greA               50786 non-null float64\n",
      "topperCgpa         53641 non-null float64\n",
      "termAndYear        53322 non-null object\n",
      "confPubs           53322 non-null object\n",
      "ugCollege          51366 non-null object\n",
      "gmatA              119 non-null float64\n",
      "cgpa               53644 non-null float64\n",
      "gmatQ              123 non-null float64\n",
      "cgpaScale          53644 non-null int64\n",
      "gmatV              114 non-null float64\n",
      "univName           53644 non-null object\n",
      "admit              53644 non-null int64\n",
      "dtypes: float64(10), int64(4), object(12)\n",
      "memory usage: 10.6+ MB\n"
     ]
    }
   ],
   "source": [
    "df.info()"
   ]
  },
  {
   "cell_type": "code",
   "execution_count": 7,
   "metadata": {},
   "outputs": [
    {
     "name": "stdout",
     "output_type": "stream",
     "text": [
      "There are 12 categorical variables\n",
      "\n",
      "The categorical variables are :\n",
      "\n",
      " ['userName', 'major', 'specialization', 'program', 'department', 'toeflEssay', 'userProfileLink', 'journalPubs', 'termAndYear', 'confPubs', 'ugCollege', 'univName']\n"
     ]
    }
   ],
   "source": [
    "categorical = [var for var in df.columns if df[var].dtype=='O']\n",
    "\n",
    "print('There are {} categorical variables\\n'.format(len(categorical)))\n",
    "\n",
    "print('The categorical variables are :\\n\\n', categorical)"
   ]
  },
  {
   "cell_type": "code",
   "execution_count": 8,
   "metadata": {},
   "outputs": [
    {
     "data": {
      "text/html": [
       "<div>\n",
       "<style scoped>\n",
       "    .dataframe tbody tr th:only-of-type {\n",
       "        vertical-align: middle;\n",
       "    }\n",
       "\n",
       "    .dataframe tbody tr th {\n",
       "        vertical-align: top;\n",
       "    }\n",
       "\n",
       "    .dataframe thead th {\n",
       "        text-align: right;\n",
       "    }\n",
       "</style>\n",
       "<table border=\"1\" class=\"dataframe\">\n",
       "  <thead>\n",
       "    <tr style=\"text-align: right;\">\n",
       "      <th></th>\n",
       "      <th>userName</th>\n",
       "      <th>major</th>\n",
       "      <th>specialization</th>\n",
       "      <th>program</th>\n",
       "      <th>department</th>\n",
       "      <th>toeflEssay</th>\n",
       "      <th>userProfileLink</th>\n",
       "      <th>journalPubs</th>\n",
       "      <th>termAndYear</th>\n",
       "      <th>confPubs</th>\n",
       "      <th>ugCollege</th>\n",
       "      <th>univName</th>\n",
       "    </tr>\n",
       "  </thead>\n",
       "  <tbody>\n",
       "    <tr>\n",
       "      <th>0</th>\n",
       "      <td>143saf</td>\n",
       "      <td>Systems and Control</td>\n",
       "      <td>Robotics</td>\n",
       "      <td>MS</td>\n",
       "      <td>Instrumentation &amp; Control</td>\n",
       "      <td>26</td>\n",
       "      <td>http://www.edulix.com/unisearch/user.php?uid=2...</td>\n",
       "      <td>0</td>\n",
       "      <td>Fall - 2015</td>\n",
       "      <td>0</td>\n",
       "      <td>Dharamsinh Desai University</td>\n",
       "      <td>Worcester Polytechnic Institute</td>\n",
       "    </tr>\n",
       "    <tr>\n",
       "      <th>1</th>\n",
       "      <td>7790ashish</td>\n",
       "      <td>Manufacturing Engineering</td>\n",
       "      <td>NaN</td>\n",
       "      <td>MS</td>\n",
       "      <td>0</td>\n",
       "      <td>NaN</td>\n",
       "      <td>http://www.edulix.com/unisearch/user.php?uid=1...</td>\n",
       "      <td>0</td>\n",
       "      <td>Fall - 2013</td>\n",
       "      <td>0</td>\n",
       "      <td>NaN</td>\n",
       "      <td>Worcester Polytechnic Institute</td>\n",
       "    </tr>\n",
       "    <tr>\n",
       "      <th>2</th>\n",
       "      <td>AB25</td>\n",
       "      <td>(MIS / MSIM / MSIS / MSIT)</td>\n",
       "      <td>NaN</td>\n",
       "      <td>MS</td>\n",
       "      <td>Computer Engineering</td>\n",
       "      <td>21</td>\n",
       "      <td>http://www.edulix.com/unisearch/user.php?uid=2...</td>\n",
       "      <td>0</td>\n",
       "      <td>Fall - 2015</td>\n",
       "      <td>0</td>\n",
       "      <td>IET DAVV</td>\n",
       "      <td>Worcester Polytechnic Institute</td>\n",
       "    </tr>\n",
       "    <tr>\n",
       "      <th>3</th>\n",
       "      <td>abhijitg</td>\n",
       "      <td>NaN</td>\n",
       "      <td>NaN</td>\n",
       "      <td>NaN</td>\n",
       "      <td>0</td>\n",
       "      <td>NaN</td>\n",
       "      <td>http://www.edulix.com/unisearch/user.php?uid=1...</td>\n",
       "      <td>NaN</td>\n",
       "      <td>NaN</td>\n",
       "      <td>NaN</td>\n",
       "      <td>NaN</td>\n",
       "      <td>Worcester Polytechnic Institute</td>\n",
       "    </tr>\n",
       "    <tr>\n",
       "      <th>4</th>\n",
       "      <td>abhijitgang</td>\n",
       "      <td>MIS</td>\n",
       "      <td>NaN</td>\n",
       "      <td>MS</td>\n",
       "      <td>computer</td>\n",
       "      <td>NaN</td>\n",
       "      <td>http://www.edulix.com/unisearch/user.php?uid=1...</td>\n",
       "      <td>0</td>\n",
       "      <td>Fall - 2011</td>\n",
       "      <td>0</td>\n",
       "      <td>Pune University</td>\n",
       "      <td>Worcester Polytechnic Institute</td>\n",
       "    </tr>\n",
       "  </tbody>\n",
       "</table>\n",
       "</div>"
      ],
      "text/plain": [
       "      userName                       major specialization program  \\\n",
       "0       143saf         Systems and Control       Robotics      MS   \n",
       "1   7790ashish   Manufacturing Engineering            NaN      MS   \n",
       "2         AB25  (MIS / MSIM / MSIS / MSIT)            NaN      MS   \n",
       "3     abhijitg                         NaN            NaN     NaN   \n",
       "4  abhijitgang                         MIS            NaN      MS   \n",
       "\n",
       "                  department toeflEssay  \\\n",
       "0  Instrumentation & Control         26   \n",
       "1                          0        NaN   \n",
       "2       Computer Engineering         21   \n",
       "3                          0        NaN   \n",
       "4                   computer        NaN   \n",
       "\n",
       "                                     userProfileLink journalPubs  termAndYear  \\\n",
       "0  http://www.edulix.com/unisearch/user.php?uid=2...           0  Fall - 2015   \n",
       "1  http://www.edulix.com/unisearch/user.php?uid=1...           0  Fall - 2013   \n",
       "2  http://www.edulix.com/unisearch/user.php?uid=2...           0  Fall - 2015   \n",
       "3  http://www.edulix.com/unisearch/user.php?uid=1...         NaN          NaN   \n",
       "4  http://www.edulix.com/unisearch/user.php?uid=1...           0  Fall - 2011   \n",
       "\n",
       "  confPubs                    ugCollege                         univName  \n",
       "0        0  Dharamsinh Desai University  Worcester Polytechnic Institute  \n",
       "1        0                          NaN  Worcester Polytechnic Institute  \n",
       "2        0                     IET DAVV  Worcester Polytechnic Institute  \n",
       "3      NaN                          NaN  Worcester Polytechnic Institute  \n",
       "4        0              Pune University  Worcester Polytechnic Institute  "
      ]
     },
     "execution_count": 8,
     "metadata": {},
     "output_type": "execute_result"
    }
   ],
   "source": [
    "df[categorical].head()"
   ]
  },
  {
   "cell_type": "code",
   "execution_count": 9,
   "metadata": {},
   "outputs": [
    {
     "data": {
      "text/plain": [
       "userName               0\n",
       "major                387\n",
       "specialization     21695\n",
       "program              322\n",
       "department             1\n",
       "toeflEssay         41770\n",
       "userProfileLink        0\n",
       "journalPubs          322\n",
       "termAndYear          322\n",
       "confPubs             322\n",
       "ugCollege           2278\n",
       "univName               0\n",
       "dtype: int64"
      ]
     },
     "execution_count": 9,
     "metadata": {},
     "output_type": "execute_result"
    }
   ],
   "source": [
    "df[categorical].isnull().sum()"
   ]
  },
  {
   "cell_type": "code",
   "execution_count": 10,
   "metadata": {},
   "outputs": [
    {
     "data": {
      "text/plain": [
       "array(['26', nan, '21', '6', '27', '22', '24', '29', '30', '25', '28',\n",
       "       '3', '4.5', '5.5', '20', '23', '7.5', '6.5', '5', '99', '4', '0',\n",
       "       '3.5', ' Chemistry', '2.5', '7', ' Information Technology', '18',\n",
       "       '2', '10', '41', '19', '60', '45', '4.6', '1.5', '35'],\n",
       "      dtype=object)"
      ]
     },
     "execution_count": 10,
     "metadata": {},
     "output_type": "execute_result"
    }
   ],
   "source": [
    "df['toeflEssay'].unique()"
   ]
  },
  {
   "cell_type": "code",
   "execution_count": 11,
   "metadata": {},
   "outputs": [],
   "source": [
    "df = df[df['toeflEssay'] != ' Information Technology']"
   ]
  },
  {
   "cell_type": "code",
   "execution_count": 12,
   "metadata": {},
   "outputs": [],
   "source": [
    "df = df[df['toeflEssay'] != ' Chemistry']"
   ]
  },
  {
   "cell_type": "code",
   "execution_count": 13,
   "metadata": {},
   "outputs": [
    {
     "data": {
      "text/plain": [
       "array([1, 0], dtype=int64)"
      ]
     },
     "execution_count": 13,
     "metadata": {},
     "output_type": "execute_result"
    }
   ],
   "source": [
    "df['admit'].unique()"
   ]
  },
  {
   "cell_type": "code",
   "execution_count": 14,
   "metadata": {},
   "outputs": [
    {
     "data": {
      "text/plain": [
       "array([ 0, 10, 12, 15, 53,  6, 17, 24,  4,  7,  9,  2, 30,  1, 36, 48, 11,\n",
       "        5, 18,  3, 14, 16, 22,  8, 32, 20, 34, 42, 29, 21, 37, 26, 13],\n",
       "      dtype=int64)"
      ]
     },
     "execution_count": 14,
     "metadata": {},
     "output_type": "execute_result"
    }
   ],
   "source": [
    "df['researchExp'].unique()"
   ]
  },
  {
   "cell_type": "code",
   "execution_count": 15,
   "metadata": {},
   "outputs": [
    {
     "name": "stdout",
     "output_type": "stream",
     "text": [
      "[ 112.   nan   94.   81.  273.  104.   95.  101.  107.   99.   91.   96.\n",
      "   98.  111.  105.  108.  109.  102.  114.  115.   93.  103.  110.   86.\n",
      "  117.   85.  113.  106.   89.   97.   90.   84.   92.   80.   79.   87.\n",
      "  100.   82.  237.  257.    0.   88.   76. 1040.   78.    8.   83.    7.\n",
      "  119.  116.  277.  270.    6.  297.  287.  280.  267.  275.  118.  120.\n",
      "  263.  290.    4.  620.  283.  293.  300.   57.  260.   65. 1190.  233.\n",
      "   11.  170. 1004. 1250.  306.  313.  312.   21.  223.  643.    9.   66.\n",
      "  253.   77.  250.  256.  322.  326. 1210. 1200.  124. 1070.  240.   74.\n",
      "   75.  247. 1350.  243.  230.   70.  680.   10.  310.  308.  587.   73.\n",
      "  235.  307.]\n",
      "<class 'numpy.ndarray'>\n"
     ]
    }
   ],
   "source": [
    "a = df['toeflScore'].unique()\n",
    "print(a)\n",
    "print(type(a))"
   ]
  },
  {
   "cell_type": "code",
   "execution_count": 16,
   "metadata": {},
   "outputs": [
    {
     "data": {
      "text/plain": [
       "userName               0\n",
       "major                387\n",
       "specialization     21695\n",
       "program              322\n",
       "department             1\n",
       "toeflEssay         41770\n",
       "userProfileLink        0\n",
       "journalPubs          322\n",
       "termAndYear          322\n",
       "confPubs             322\n",
       "ugCollege           2278\n",
       "univName               0\n",
       "dtype: int64"
      ]
     },
     "execution_count": 16,
     "metadata": {},
     "output_type": "execute_result"
    }
   ],
   "source": [
    "df[categorical].isnull().sum()"
   ]
  },
  {
   "cell_type": "code",
   "execution_count": 17,
   "metadata": {},
   "outputs": [
    {
     "name": "stdout",
     "output_type": "stream",
     "text": [
      "userName  contains  14796  labels\n",
      "major  contains  245  labels\n",
      "specialization  contains  3619  labels\n",
      "program  contains  5  labels\n",
      "department  contains  1486  labels\n",
      "toeflEssay  contains  35  labels\n",
      "userProfileLink  contains  14796  labels\n",
      "journalPubs  contains  12  labels\n",
      "termAndYear  contains  55  labels\n",
      "confPubs  contains  11  labels\n",
      "ugCollege  contains  1823  labels\n",
      "univName  contains  54  labels\n"
     ]
    }
   ],
   "source": [
    "for var in categorical:\n",
    "    \n",
    "    print(var, ' contains ', len(df[var].unique()), ' labels')"
   ]
  },
  {
   "cell_type": "code",
   "execution_count": 18,
   "metadata": {},
   "outputs": [
    {
     "name": "stdout",
     "output_type": "stream",
     "text": [
      "There are 14 numerical variables\n",
      "\n",
      "The numerical variables are : ['researchExp', 'industryExp', 'toeflScore', 'internExp', 'greV', 'greQ', 'greA', 'topperCgpa', 'gmatA', 'cgpa', 'gmatQ', 'cgpaScale', 'gmatV', 'admit']\n"
     ]
    }
   ],
   "source": [
    "numerical = [var for var in df.columns if df[var].dtype!='O']\n",
    "\n",
    "print('There are {} numerical variables\\n'.format(len(numerical)))\n",
    "\n",
    "print('The numerical variables are :', numerical)"
   ]
  },
  {
   "cell_type": "code",
   "execution_count": 19,
   "metadata": {},
   "outputs": [
    {
     "data": {
      "text/html": [
       "<div>\n",
       "<style scoped>\n",
       "    .dataframe tbody tr th:only-of-type {\n",
       "        vertical-align: middle;\n",
       "    }\n",
       "\n",
       "    .dataframe tbody tr th {\n",
       "        vertical-align: top;\n",
       "    }\n",
       "\n",
       "    .dataframe thead th {\n",
       "        text-align: right;\n",
       "    }\n",
       "</style>\n",
       "<table border=\"1\" class=\"dataframe\">\n",
       "  <thead>\n",
       "    <tr style=\"text-align: right;\">\n",
       "      <th></th>\n",
       "      <th>researchExp</th>\n",
       "      <th>industryExp</th>\n",
       "      <th>toeflScore</th>\n",
       "      <th>internExp</th>\n",
       "      <th>greV</th>\n",
       "      <th>greQ</th>\n",
       "      <th>greA</th>\n",
       "      <th>topperCgpa</th>\n",
       "      <th>gmatA</th>\n",
       "      <th>cgpa</th>\n",
       "      <th>gmatQ</th>\n",
       "      <th>cgpaScale</th>\n",
       "      <th>gmatV</th>\n",
       "      <th>admit</th>\n",
       "    </tr>\n",
       "  </thead>\n",
       "  <tbody>\n",
       "    <tr>\n",
       "      <th>0</th>\n",
       "      <td>0</td>\n",
       "      <td>18</td>\n",
       "      <td>112.0</td>\n",
       "      <td>5.0</td>\n",
       "      <td>160.0</td>\n",
       "      <td>167.0</td>\n",
       "      <td>4.5</td>\n",
       "      <td>8.9</td>\n",
       "      <td>NaN</td>\n",
       "      <td>8.50</td>\n",
       "      <td>NaN</td>\n",
       "      <td>10</td>\n",
       "      <td>NaN</td>\n",
       "      <td>1</td>\n",
       "    </tr>\n",
       "    <tr>\n",
       "      <th>1</th>\n",
       "      <td>0</td>\n",
       "      <td>0</td>\n",
       "      <td>NaN</td>\n",
       "      <td>0.0</td>\n",
       "      <td>NaN</td>\n",
       "      <td>NaN</td>\n",
       "      <td>NaN</td>\n",
       "      <td>0.0</td>\n",
       "      <td>NaN</td>\n",
       "      <td>0.00</td>\n",
       "      <td>NaN</td>\n",
       "      <td>0</td>\n",
       "      <td>NaN</td>\n",
       "      <td>1</td>\n",
       "    </tr>\n",
       "    <tr>\n",
       "      <th>2</th>\n",
       "      <td>0</td>\n",
       "      <td>66</td>\n",
       "      <td>94.0</td>\n",
       "      <td>0.0</td>\n",
       "      <td>146.0</td>\n",
       "      <td>157.0</td>\n",
       "      <td>3.0</td>\n",
       "      <td>81.0</td>\n",
       "      <td>NaN</td>\n",
       "      <td>78.28</td>\n",
       "      <td>NaN</td>\n",
       "      <td>100</td>\n",
       "      <td>NaN</td>\n",
       "      <td>1</td>\n",
       "    </tr>\n",
       "    <tr>\n",
       "      <th>3</th>\n",
       "      <td>0</td>\n",
       "      <td>0</td>\n",
       "      <td>NaN</td>\n",
       "      <td>0.0</td>\n",
       "      <td>NaN</td>\n",
       "      <td>NaN</td>\n",
       "      <td>NaN</td>\n",
       "      <td>0.0</td>\n",
       "      <td>NaN</td>\n",
       "      <td>0.00</td>\n",
       "      <td>NaN</td>\n",
       "      <td>0</td>\n",
       "      <td>NaN</td>\n",
       "      <td>1</td>\n",
       "    </tr>\n",
       "    <tr>\n",
       "      <th>4</th>\n",
       "      <td>0</td>\n",
       "      <td>0</td>\n",
       "      <td>81.0</td>\n",
       "      <td>0.0</td>\n",
       "      <td>420.0</td>\n",
       "      <td>770.0</td>\n",
       "      <td>2.5</td>\n",
       "      <td>70.0</td>\n",
       "      <td>NaN</td>\n",
       "      <td>57.00</td>\n",
       "      <td>NaN</td>\n",
       "      <td>100</td>\n",
       "      <td>NaN</td>\n",
       "      <td>1</td>\n",
       "    </tr>\n",
       "  </tbody>\n",
       "</table>\n",
       "</div>"
      ],
      "text/plain": [
       "   researchExp  industryExp  toeflScore  internExp   greV   greQ  greA  \\\n",
       "0            0           18       112.0        5.0  160.0  167.0   4.5   \n",
       "1            0            0         NaN        0.0    NaN    NaN   NaN   \n",
       "2            0           66        94.0        0.0  146.0  157.0   3.0   \n",
       "3            0            0         NaN        0.0    NaN    NaN   NaN   \n",
       "4            0            0        81.0        0.0  420.0  770.0   2.5   \n",
       "\n",
       "   topperCgpa  gmatA   cgpa  gmatQ  cgpaScale  gmatV  admit  \n",
       "0         8.9    NaN   8.50    NaN         10    NaN      1  \n",
       "1         0.0    NaN   0.00    NaN          0    NaN      1  \n",
       "2        81.0    NaN  78.28    NaN        100    NaN      1  \n",
       "3         0.0    NaN   0.00    NaN          0    NaN      1  \n",
       "4        70.0    NaN  57.00    NaN        100    NaN      1  "
      ]
     },
     "execution_count": 19,
     "metadata": {},
     "output_type": "execute_result"
    }
   ],
   "source": [
    "df[numerical].head()"
   ]
  },
  {
   "cell_type": "code",
   "execution_count": 20,
   "metadata": {},
   "outputs": [
    {
     "data": {
      "text/plain": [
       "researchExp        0\n",
       "industryExp        0\n",
       "toeflScore      4414\n",
       "internExp          3\n",
       "greV            1256\n",
       "greQ            1220\n",
       "greA            2858\n",
       "topperCgpa         3\n",
       "gmatA          53514\n",
       "cgpa               0\n",
       "gmatQ          53517\n",
       "cgpaScale          0\n",
       "gmatV          53519\n",
       "admit              0\n",
       "dtype: int64"
      ]
     },
     "execution_count": 20,
     "metadata": {},
     "output_type": "execute_result"
    }
   ],
   "source": [
    "df[numerical].isnull().sum()"
   ]
  },
  {
   "cell_type": "code",
   "execution_count": 21,
   "metadata": {},
   "outputs": [],
   "source": [
    "df = df.drop(['gmatA','gmatQ','gmatV','specialization','department','program',\n",
    "              'userProfileLink','topperCgpa','termAndYear','userName',\n",
    "              'industryExp','internExp','confPubs','journalPubs','ugCollege',\n",
    "              'major','univName'],1)"
   ]
  },
  {
   "cell_type": "code",
   "execution_count": 22,
   "metadata": {},
   "outputs": [
    {
     "data": {
      "text/plain": [
       "(53633, 9)"
      ]
     },
     "execution_count": 22,
     "metadata": {},
     "output_type": "execute_result"
    }
   ],
   "source": [
    "df.shape"
   ]
  },
  {
   "cell_type": "code",
   "execution_count": 23,
   "metadata": {},
   "outputs": [],
   "source": [
    "df = df.dropna()"
   ]
  },
  {
   "cell_type": "code",
   "execution_count": null,
   "metadata": {},
   "outputs": [],
   "source": []
  },
  {
   "cell_type": "code",
   "execution_count": 24,
   "metadata": {},
   "outputs": [
    {
     "name": "stdout",
     "output_type": "stream",
     "text": [
      "There are 8 numerical variables\n",
      "\n",
      "The numerical variables are : ['researchExp', 'toeflScore', 'greV', 'greQ', 'greA', 'cgpa', 'cgpaScale', 'admit']\n"
     ]
    }
   ],
   "source": [
    "numerical = [var for var in df.columns if df[var].dtype!='O']\n",
    "\n",
    "print('There are {} numerical variables\\n'.format(len(numerical)))\n",
    "\n",
    "print('The numerical variables are :', numerical)"
   ]
  },
  {
   "cell_type": "code",
   "execution_count": 25,
   "metadata": {},
   "outputs": [],
   "source": [
    "df = df.dropna()"
   ]
  },
  {
   "cell_type": "code",
   "execution_count": 26,
   "metadata": {},
   "outputs": [
    {
     "data": {
      "text/html": [
       "<div>\n",
       "<style scoped>\n",
       "    .dataframe tbody tr th:only-of-type {\n",
       "        vertical-align: middle;\n",
       "    }\n",
       "\n",
       "    .dataframe tbody tr th {\n",
       "        vertical-align: top;\n",
       "    }\n",
       "\n",
       "    .dataframe thead th {\n",
       "        text-align: right;\n",
       "    }\n",
       "</style>\n",
       "<table border=\"1\" class=\"dataframe\">\n",
       "  <thead>\n",
       "    <tr style=\"text-align: right;\">\n",
       "      <th></th>\n",
       "      <th>researchExp</th>\n",
       "      <th>toeflScore</th>\n",
       "      <th>toeflEssay</th>\n",
       "      <th>greV</th>\n",
       "      <th>greQ</th>\n",
       "      <th>greA</th>\n",
       "      <th>cgpa</th>\n",
       "      <th>cgpaScale</th>\n",
       "      <th>admit</th>\n",
       "    </tr>\n",
       "  </thead>\n",
       "  <tbody>\n",
       "    <tr>\n",
       "      <th>0</th>\n",
       "      <td>0</td>\n",
       "      <td>112.0</td>\n",
       "      <td>26</td>\n",
       "      <td>160.0</td>\n",
       "      <td>167.0</td>\n",
       "      <td>4.5</td>\n",
       "      <td>8.50</td>\n",
       "      <td>10</td>\n",
       "      <td>1</td>\n",
       "    </tr>\n",
       "    <tr>\n",
       "      <th>2</th>\n",
       "      <td>0</td>\n",
       "      <td>94.0</td>\n",
       "      <td>21</td>\n",
       "      <td>146.0</td>\n",
       "      <td>157.0</td>\n",
       "      <td>3.0</td>\n",
       "      <td>78.28</td>\n",
       "      <td>100</td>\n",
       "      <td>1</td>\n",
       "    </tr>\n",
       "    <tr>\n",
       "      <th>5</th>\n",
       "      <td>0</td>\n",
       "      <td>273.0</td>\n",
       "      <td>6</td>\n",
       "      <td>410.0</td>\n",
       "      <td>1010.0</td>\n",
       "      <td>600.0</td>\n",
       "      <td>52.00</td>\n",
       "      <td>100</td>\n",
       "      <td>1</td>\n",
       "    </tr>\n",
       "    <tr>\n",
       "      <th>6</th>\n",
       "      <td>0</td>\n",
       "      <td>104.0</td>\n",
       "      <td>27</td>\n",
       "      <td>150.0</td>\n",
       "      <td>161.0</td>\n",
       "      <td>4.5</td>\n",
       "      <td>62.20</td>\n",
       "      <td>100</td>\n",
       "      <td>1</td>\n",
       "    </tr>\n",
       "    <tr>\n",
       "      <th>7</th>\n",
       "      <td>0</td>\n",
       "      <td>95.0</td>\n",
       "      <td>22</td>\n",
       "      <td>147.0</td>\n",
       "      <td>156.0</td>\n",
       "      <td>3.0</td>\n",
       "      <td>52.00</td>\n",
       "      <td>100</td>\n",
       "      <td>1</td>\n",
       "    </tr>\n",
       "    <tr>\n",
       "      <th>...</th>\n",
       "      <td>...</td>\n",
       "      <td>...</td>\n",
       "      <td>...</td>\n",
       "      <td>...</td>\n",
       "      <td>...</td>\n",
       "      <td>...</td>\n",
       "      <td>...</td>\n",
       "      <td>...</td>\n",
       "      <td>...</td>\n",
       "    </tr>\n",
       "    <tr>\n",
       "      <th>53631</th>\n",
       "      <td>0</td>\n",
       "      <td>95.0</td>\n",
       "      <td>29</td>\n",
       "      <td>144.0</td>\n",
       "      <td>163.0</td>\n",
       "      <td>3.0</td>\n",
       "      <td>74.83</td>\n",
       "      <td>100</td>\n",
       "      <td>0</td>\n",
       "    </tr>\n",
       "    <tr>\n",
       "      <th>53634</th>\n",
       "      <td>0</td>\n",
       "      <td>91.0</td>\n",
       "      <td>22</td>\n",
       "      <td>146.0</td>\n",
       "      <td>160.0</td>\n",
       "      <td>2.5</td>\n",
       "      <td>71.00</td>\n",
       "      <td>100</td>\n",
       "      <td>0</td>\n",
       "    </tr>\n",
       "    <tr>\n",
       "      <th>53636</th>\n",
       "      <td>0</td>\n",
       "      <td>116.0</td>\n",
       "      <td>29</td>\n",
       "      <td>157.0</td>\n",
       "      <td>162.0</td>\n",
       "      <td>3.0</td>\n",
       "      <td>63.00</td>\n",
       "      <td>100</td>\n",
       "      <td>0</td>\n",
       "    </tr>\n",
       "    <tr>\n",
       "      <th>53639</th>\n",
       "      <td>0</td>\n",
       "      <td>98.0</td>\n",
       "      <td>24</td>\n",
       "      <td>151.0</td>\n",
       "      <td>152.0</td>\n",
       "      <td>3.0</td>\n",
       "      <td>71.00</td>\n",
       "      <td>100</td>\n",
       "      <td>0</td>\n",
       "    </tr>\n",
       "    <tr>\n",
       "      <th>53640</th>\n",
       "      <td>0</td>\n",
       "      <td>115.0</td>\n",
       "      <td>30</td>\n",
       "      <td>550.0</td>\n",
       "      <td>800.0</td>\n",
       "      <td>4.5</td>\n",
       "      <td>6.50</td>\n",
       "      <td>10</td>\n",
       "      <td>0</td>\n",
       "    </tr>\n",
       "  </tbody>\n",
       "</table>\n",
       "<p>11506 rows × 9 columns</p>\n",
       "</div>"
      ],
      "text/plain": [
       "       researchExp  toeflScore toeflEssay   greV    greQ   greA   cgpa  \\\n",
       "0                0       112.0         26  160.0   167.0    4.5   8.50   \n",
       "2                0        94.0         21  146.0   157.0    3.0  78.28   \n",
       "5                0       273.0          6  410.0  1010.0  600.0  52.00   \n",
       "6                0       104.0         27  150.0   161.0    4.5  62.20   \n",
       "7                0        95.0         22  147.0   156.0    3.0  52.00   \n",
       "...            ...         ...        ...    ...     ...    ...    ...   \n",
       "53631            0        95.0         29  144.0   163.0    3.0  74.83   \n",
       "53634            0        91.0         22  146.0   160.0    2.5  71.00   \n",
       "53636            0       116.0         29  157.0   162.0    3.0  63.00   \n",
       "53639            0        98.0         24  151.0   152.0    3.0  71.00   \n",
       "53640            0       115.0         30  550.0   800.0    4.5   6.50   \n",
       "\n",
       "       cgpaScale  admit  \n",
       "0             10      1  \n",
       "2            100      1  \n",
       "5            100      1  \n",
       "6            100      1  \n",
       "7            100      1  \n",
       "...          ...    ...  \n",
       "53631        100      0  \n",
       "53634        100      0  \n",
       "53636        100      0  \n",
       "53639        100      0  \n",
       "53640         10      0  \n",
       "\n",
       "[11506 rows x 9 columns]"
      ]
     },
     "execution_count": 26,
     "metadata": {},
     "output_type": "execute_result"
    }
   ],
   "source": [
    "df"
   ]
  },
  {
   "cell_type": "code",
   "execution_count": 27,
   "metadata": {},
   "outputs": [
    {
     "data": {
      "text/plain": [
       "(11506, 9)"
      ]
     },
     "execution_count": 27,
     "metadata": {},
     "output_type": "execute_result"
    }
   ],
   "source": [
    "df.shape"
   ]
  },
  {
   "cell_type": "code",
   "execution_count": 28,
   "metadata": {},
   "outputs": [],
   "source": [
    "df = df.dropna()"
   ]
  },
  {
   "cell_type": "code",
   "execution_count": 29,
   "metadata": {},
   "outputs": [],
   "source": [
    "X = df.drop(['admit'], axis=1)\n",
    "\n",
    "y = df['admit']"
   ]
  },
  {
   "cell_type": "code",
   "execution_count": 30,
   "metadata": {},
   "outputs": [],
   "source": [
    "from sklearn.model_selection import train_test_split\n",
    "\n",
    "X_train, X_test, y_train, y_test = train_test_split(X, y, test_size = 0.3, random_state = 0)"
   ]
  },
  {
   "cell_type": "code",
   "execution_count": 31,
   "metadata": {},
   "outputs": [
    {
     "data": {
      "text/plain": [
       "((8054, 8), (3452, 8))"
      ]
     },
     "execution_count": 31,
     "metadata": {},
     "output_type": "execute_result"
    }
   ],
   "source": [
    "X_train.shape, X_test.shape"
   ]
  },
  {
   "cell_type": "code",
   "execution_count": 32,
   "metadata": {},
   "outputs": [
    {
     "data": {
      "text/plain": [
       "researchExp      int64\n",
       "toeflScore     float64\n",
       "toeflEssay      object\n",
       "greV           float64\n",
       "greQ           float64\n",
       "greA           float64\n",
       "cgpa           float64\n",
       "cgpaScale        int64\n",
       "dtype: object"
      ]
     },
     "execution_count": 32,
     "metadata": {},
     "output_type": "execute_result"
    }
   ],
   "source": [
    "X_train.dtypes"
   ]
  },
  {
   "cell_type": "code",
   "execution_count": 33,
   "metadata": {},
   "outputs": [
    {
     "data": {
      "text/plain": [
       "['toeflEssay']"
      ]
     },
     "execution_count": 33,
     "metadata": {},
     "output_type": "execute_result"
    }
   ],
   "source": [
    "categorical = [col for col in X_train.columns if X_train[col].dtypes == 'O']\n",
    "\n",
    "categorical"
   ]
  },
  {
   "cell_type": "code",
   "execution_count": 34,
   "metadata": {},
   "outputs": [
    {
     "data": {
      "text/plain": [
       "toeflEssay    0.0\n",
       "dtype: float64"
      ]
     },
     "execution_count": 34,
     "metadata": {},
     "output_type": "execute_result"
    }
   ],
   "source": [
    "X_train[categorical].isnull().mean()"
   ]
  },
  {
   "cell_type": "code",
   "execution_count": 35,
   "metadata": {},
   "outputs": [],
   "source": [
    "for col in categorical:\n",
    "    if X_train[col].isnull().mean()>0:\n",
    "        print(col, (X_train[col].isnull().mean()))"
   ]
  },
  {
   "cell_type": "code",
   "execution_count": 36,
   "metadata": {},
   "outputs": [
    {
     "name": "stderr",
     "output_type": "stream",
     "text": [
      "C:\\Users\\ITD-STU\\Anaconda3\\lib\\site-packages\\pandas\\core\\generic.py:6287: SettingWithCopyWarning: \n",
      "A value is trying to be set on a copy of a slice from a DataFrame\n",
      "\n",
      "See the caveats in the documentation: http://pandas.pydata.org/pandas-docs/stable/user_guide/indexing.html#returning-a-view-versus-a-copy\n",
      "  self._update_inplace(new_data)\n"
     ]
    }
   ],
   "source": [
    "for df2 in [X_train, X_test]:\n",
    "    df2['toeflEssay'].fillna(X_train['toeflEssay'].mode()[0], inplace=True) "
   ]
  },
  {
   "cell_type": "code",
   "execution_count": 37,
   "metadata": {},
   "outputs": [
    {
     "data": {
      "text/plain": [
       "toeflEssay    0\n",
       "dtype: int64"
      ]
     },
     "execution_count": 37,
     "metadata": {},
     "output_type": "execute_result"
    }
   ],
   "source": [
    "X_train[categorical].isnull().sum()"
   ]
  },
  {
   "cell_type": "code",
   "execution_count": 38,
   "metadata": {},
   "outputs": [
    {
     "data": {
      "text/plain": [
       "toeflEssay    0\n",
       "dtype: int64"
      ]
     },
     "execution_count": 38,
     "metadata": {},
     "output_type": "execute_result"
    }
   ],
   "source": [
    "X_test[categorical].isnull().sum()"
   ]
  },
  {
   "cell_type": "code",
   "execution_count": 39,
   "metadata": {},
   "outputs": [
    {
     "data": {
      "text/plain": [
       "researchExp    0\n",
       "toeflScore     0\n",
       "toeflEssay     0\n",
       "greV           0\n",
       "greQ           0\n",
       "greA           0\n",
       "cgpa           0\n",
       "cgpaScale      0\n",
       "dtype: int64"
      ]
     },
     "execution_count": 39,
     "metadata": {},
     "output_type": "execute_result"
    }
   ],
   "source": [
    "X_train.isnull().sum()"
   ]
  },
  {
   "cell_type": "code",
   "execution_count": 40,
   "metadata": {},
   "outputs": [
    {
     "data": {
      "text/plain": [
       "researchExp    0\n",
       "toeflScore     0\n",
       "toeflEssay     0\n",
       "greV           0\n",
       "greQ           0\n",
       "greA           0\n",
       "cgpa           0\n",
       "cgpaScale      0\n",
       "dtype: int64"
      ]
     },
     "execution_count": 40,
     "metadata": {},
     "output_type": "execute_result"
    }
   ],
   "source": [
    "X_test.isnull().sum()"
   ]
  },
  {
   "cell_type": "code",
   "execution_count": 41,
   "metadata": {},
   "outputs": [
    {
     "data": {
      "text/plain": [
       "['toeflEssay']"
      ]
     },
     "execution_count": 41,
     "metadata": {},
     "output_type": "execute_result"
    }
   ],
   "source": [
    "categorical"
   ]
  },
  {
   "cell_type": "code",
   "execution_count": 42,
   "metadata": {},
   "outputs": [
    {
     "data": {
      "text/html": [
       "<div>\n",
       "<style scoped>\n",
       "    .dataframe tbody tr th:only-of-type {\n",
       "        vertical-align: middle;\n",
       "    }\n",
       "\n",
       "    .dataframe tbody tr th {\n",
       "        vertical-align: top;\n",
       "    }\n",
       "\n",
       "    .dataframe thead th {\n",
       "        text-align: right;\n",
       "    }\n",
       "</style>\n",
       "<table border=\"1\" class=\"dataframe\">\n",
       "  <thead>\n",
       "    <tr style=\"text-align: right;\">\n",
       "      <th></th>\n",
       "      <th>toeflEssay</th>\n",
       "    </tr>\n",
       "  </thead>\n",
       "  <tbody>\n",
       "    <tr>\n",
       "      <th>19111</th>\n",
       "      <td>6</td>\n",
       "    </tr>\n",
       "    <tr>\n",
       "      <th>6313</th>\n",
       "      <td>22</td>\n",
       "    </tr>\n",
       "    <tr>\n",
       "      <th>46481</th>\n",
       "      <td>23</td>\n",
       "    </tr>\n",
       "    <tr>\n",
       "      <th>52653</th>\n",
       "      <td>25</td>\n",
       "    </tr>\n",
       "    <tr>\n",
       "      <th>33262</th>\n",
       "      <td>29</td>\n",
       "    </tr>\n",
       "  </tbody>\n",
       "</table>\n",
       "</div>"
      ],
      "text/plain": [
       "      toeflEssay\n",
       "19111          6\n",
       "6313          22\n",
       "46481         23\n",
       "52653         25\n",
       "33262         29"
      ]
     },
     "execution_count": 42,
     "metadata": {},
     "output_type": "execute_result"
    }
   ],
   "source": [
    "X_train[categorical].head()"
   ]
  },
  {
   "cell_type": "code",
   "execution_count": 43,
   "metadata": {},
   "outputs": [],
   "source": [
    "from sklearn.naive_bayes import GaussianNB"
   ]
  },
  {
   "cell_type": "code",
   "execution_count": 44,
   "metadata": {},
   "outputs": [],
   "source": [
    "gnb = GaussianNB()"
   ]
  },
  {
   "cell_type": "code",
   "execution_count": 45,
   "metadata": {},
   "outputs": [
    {
     "data": {
      "text/plain": [
       "GaussianNB(priors=None)"
      ]
     },
     "execution_count": 45,
     "metadata": {},
     "output_type": "execute_result"
    }
   ],
   "source": [
    "gnb.fit(X_train, y_train)"
   ]
  },
  {
   "cell_type": "code",
   "execution_count": 46,
   "metadata": {},
   "outputs": [
    {
     "data": {
      "text/plain": [
       "array([0, 1, 0, ..., 1, 1, 0], dtype=int64)"
      ]
     },
     "execution_count": 46,
     "metadata": {},
     "output_type": "execute_result"
    }
   ],
   "source": [
    "y_pred = gnb.predict(X_test)\n",
    "\n",
    "y_pred"
   ]
  },
  {
   "cell_type": "code",
   "execution_count": 47,
   "metadata": {},
   "outputs": [
    {
     "name": "stdout",
     "output_type": "stream",
     "text": [
      "Model accuracy score: 0.5072\n"
     ]
    }
   ],
   "source": [
    "from sklearn.metrics import accuracy_score\n",
    "\n",
    "print('Model accuracy score: {0:0.4f}'. format(accuracy_score(y_test, y_pred)))"
   ]
  },
  {
   "cell_type": "code",
   "execution_count": 48,
   "metadata": {},
   "outputs": [
    {
     "data": {
      "text/plain": [
       "array([1, 0, 0, ..., 0, 1, 0], dtype=int64)"
      ]
     },
     "execution_count": 48,
     "metadata": {},
     "output_type": "execute_result"
    }
   ],
   "source": [
    "y_pred_train = gnb.predict(X_train)\n",
    "\n",
    "y_pred_train"
   ]
  },
  {
   "cell_type": "code",
   "execution_count": 49,
   "metadata": {},
   "outputs": [
    {
     "name": "stdout",
     "output_type": "stream",
     "text": [
      "Training-set accuracy score: 0.5024\n"
     ]
    }
   ],
   "source": [
    "print('Training-set accuracy score: {0:0.4f}'. format(accuracy_score(y_train, y_pred_train)))"
   ]
  },
  {
   "cell_type": "code",
   "execution_count": 50,
   "metadata": {},
   "outputs": [
    {
     "name": "stdout",
     "output_type": "stream",
     "text": [
      "Training set score: 0.5024\n",
      "Test set score: 0.5072\n"
     ]
    }
   ],
   "source": [
    "print('Training set score: {:.4f}'.format(gnb.score(X_train, y_train)))\n",
    "\n",
    "print('Test set score: {:.4f}'.format(gnb.score(X_test, y_test)))"
   ]
  },
  {
   "cell_type": "code",
   "execution_count": 51,
   "metadata": {},
   "outputs": [
    {
     "data": {
      "text/plain": [
       "0    1743\n",
       "1    1709\n",
       "Name: admit, dtype: int64"
      ]
     },
     "execution_count": 51,
     "metadata": {},
     "output_type": "execute_result"
    }
   ],
   "source": [
    "y_test.value_counts()"
   ]
  },
  {
   "cell_type": "code",
   "execution_count": 52,
   "metadata": {},
   "outputs": [
    {
     "name": "stdout",
     "output_type": "stream",
     "text": [
      "Null accuracy score: 0.5103\n"
     ]
    }
   ],
   "source": [
    "null_accuracy = (1739/(1739+1669))\n",
    "\n",
    "print('Null accuracy score: {0:0.4f}'. format(null_accuracy))"
   ]
  },
  {
   "cell_type": "code",
   "execution_count": null,
   "metadata": {},
   "outputs": [],
   "source": []
  }
 ],
 "metadata": {
  "kernelspec": {
   "display_name": "Python 3",
   "language": "python",
   "name": "python3"
  },
  "language_info": {
   "codemirror_mode": {
    "name": "ipython",
    "version": 3
   },
   "file_extension": ".py",
   "mimetype": "text/x-python",
   "name": "python",
   "nbconvert_exporter": "python",
   "pygments_lexer": "ipython3",
   "version": "3.6.5"
  }
 },
 "nbformat": 4,
 "nbformat_minor": 2
}
